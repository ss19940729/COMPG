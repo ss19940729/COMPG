{
 "cells": [
  {
   "cell_type": "code",
   "execution_count": 1,
   "metadata": {
    "collapsed": true
   },
   "outputs": [],
   "source": [
    "import pandas as pd\n",
    "import numpy as np\n",
    "import matplotlib.pyplot as plt\n",
    "import seaborn as sns\n",
    "from scipy.stats import kurtosis\n",
    "from scipy.stats import skew\n",
    "import scipy.stats as st"
   ]
  },
  {
   "cell_type": "code",
   "execution_count": 6,
   "metadata": {},
   "outputs": [
    {
     "name": "stdout",
     "output_type": "stream",
     "text": [
      "Drop 0 observations, which is 0.0 % of the original dataset\n"
     ]
    },
    {
     "data": {
      "text/html": [
       "<div>\n",
       "<style>\n",
       "    .dataframe thead tr:only-child th {\n",
       "        text-align: right;\n",
       "    }\n",
       "\n",
       "    .dataframe thead th {\n",
       "        text-align: left;\n",
       "    }\n",
       "\n",
       "    .dataframe tbody tr th {\n",
       "        vertical-align: top;\n",
       "    }\n",
       "</style>\n",
       "<table border=\"1\" class=\"dataframe\">\n",
       "  <thead>\n",
       "    <tr style=\"text-align: right;\">\n",
       "      <th></th>\n",
       "      <th>bidprice</th>\n",
       "    </tr>\n",
       "  </thead>\n",
       "  <tbody>\n",
       "    <tr>\n",
       "      <th>0</th>\n",
       "      <td>238</td>\n",
       "    </tr>\n",
       "    <tr>\n",
       "      <th>1</th>\n",
       "      <td>294</td>\n",
       "    </tr>\n",
       "    <tr>\n",
       "      <th>2</th>\n",
       "      <td>238</td>\n",
       "    </tr>\n",
       "    <tr>\n",
       "      <th>3</th>\n",
       "      <td>300</td>\n",
       "    </tr>\n",
       "    <tr>\n",
       "      <th>4</th>\n",
       "      <td>277</td>\n",
       "    </tr>\n",
       "    <tr>\n",
       "      <th>5</th>\n",
       "      <td>300</td>\n",
       "    </tr>\n",
       "    <tr>\n",
       "      <th>6</th>\n",
       "      <td>300</td>\n",
       "    </tr>\n",
       "    <tr>\n",
       "      <th>7</th>\n",
       "      <td>300</td>\n",
       "    </tr>\n",
       "    <tr>\n",
       "      <th>8</th>\n",
       "      <td>300</td>\n",
       "    </tr>\n",
       "    <tr>\n",
       "      <th>9</th>\n",
       "      <td>241</td>\n",
       "    </tr>\n",
       "  </tbody>\n",
       "</table>\n",
       "</div>"
      ],
      "text/plain": [
       "   bidprice\n",
       "0       238\n",
       "1       294\n",
       "2       238\n",
       "3       300\n",
       "4       277\n",
       "5       300\n",
       "6       300\n",
       "7       300\n",
       "8       300\n",
       "9       241"
      ]
     },
     "execution_count": 6,
     "metadata": {},
     "output_type": "execute_result"
    }
   ],
   "source": [
    "# import csv file\n",
    "df = pd.read_csv('./train.csv')\n",
    "original_size = len(df)\n",
    "#df.head(10)\n",
    "\n",
    "df = pd.DataFrame(df['bidprice'], columns=['bidprice'])\n",
    "df = df.dropna()\n",
    "size_after_drop_na = len(df)\n",
    "\n",
    "num_drops = original_size - size_after_drop_na\n",
    "drop_ratio = num_drops/original_size * 100\n",
    "print('Drop', num_drops, 'observations, which is', drop_ratio, '% of the original dataset')\n",
    "df.head(10)"
   ]
  },
  {
   "cell_type": "code",
   "execution_count": 11,
   "metadata": {},
   "outputs": [
    {
     "data": {
      "image/png": "[encoded data removed]",
      "text/plain": [
       "<matplotlib.figure.Figure at 0x1653b05c0>"
      ]
     },
     "metadata": {},
     "output_type": "display_data"
    }
   ],
   "source": [
    "sns.distplot(df, color='red',bins=50)\n",
    "plt.title(\"bid price distribution\")\n",
    "\n",
    "\n",
    "plt.show()\n"
   ]
  },
  {
   "cell_type": "code",
   "execution_count": 12,
   "metadata": {},
   "outputs": [
    {
     "data": {
      "image/png": "[encoded data removed]",
      "text/plain": [
       "<matplotlib.figure.Figure at 0x1652af630>"
      ]
     },
     "metadata": {},
     "output_type": "display_data"
    }
   ],
   "source": [
    "df_freq = df.sort_values(by='bidprice').reset_index(drop=True)\n",
    "#rankings the sorted values\n",
    "df_freq = df_freq.reset_index()\n",
    "#complementary cumalative freq\n",
    "df_freq['y_k'] = (1.0 - df_freq['index'] / (df_freq.shape[0] + 1))\n",
    "#plot\n",
    "df_freq.plot(kind='line', x='bidprice', y='y_k', logx=True, logy=True)\n",
    "plt.show()"
   ]
  },
  {
   "cell_type": "code",
   "execution_count": 13,
   "metadata": {},
   "outputs": [
    {
     "name": "stdout",
     "output_type": "stream",
     "text": [
      "The mean is 272.962046,variance is 835.876395, skew is -0.400087 and kurtosis is -1.614099\n"
     ]
    }
   ],
   "source": [
    "from scipy.stats import kurtosis\n",
    "from scipy.stats import skew\n",
    "\n",
    "mean_new=np.mean(df)\n",
    "var_new=np.var(df)\n",
    "skew_new=skew(df)\n",
    "kur_new=kurtosis(df)\n",
    "\n",
    "print(\"The mean is %f,variance is %f, skew is %f and kurtosis is %f\"%(mean_new,var_new,skew_new,kur_new))"
   ]
  },
  {
   "cell_type": "code",
   "execution_count": 15,
   "metadata": {},
   "outputs": [
    {
     "name": "stderr",
     "output_type": "stream",
     "text": [
      "/Users/Shuai/anaconda3/lib/python3.6/site-packages/scipy/stats/_distn_infrastructure.py:1037: RuntimeWarning: invalid value encountered in subtract\n",
      "  mu2 = mu2p - mu * mu\n",
      "/Users/Shuai/anaconda3/lib/python3.6/site-packages/scipy/stats/_distn_infrastructure.py:2306: RuntimeWarning: invalid value encountered in double_scalars\n",
      "  Lhat = muhat - Shat*mu\n"
     ]
    },
    {
     "name": "stdout",
     "output_type": "stream",
     "text": [
      "(<scipy.stats._continuous_distns.dweibull_gen object at 0x111eaa908>, 10107385.514019549)\n",
      "(<scipy.stats._continuous_distns.lognorm_gen object at 0x111f7b0b8>, 10275548.080929637)\n",
      "(<scipy.stats._continuous_distns.uniform_gen object at 0x111fb1b00>, 10430169.619292289)\n",
      "(<scipy.stats._continuous_distns.norm_gen object at 0x111e935c0>, 11627817.044931918)\n",
      "(<scipy.stats._continuous_distns.expon_gen object at 0x111eaab70>, 11736328.901903544)\n",
      "(<scipy.stats._continuous_distns.invweibull_gen object at 0x111f656d8>, 11873092.552926498)\n",
      "(<scipy.stats._continuous_distns.laplace_gen object at 0x111f65f28>, 12009542.897633623)\n",
      "Best fit reached using dweibull, MLE value: 10107385.514019549\n",
      "['dweibull', 'lognorm', 'uniform', 'norm', 'expon', 'invweibull', 'laplace']\n"
     ]
    }
   ],
   "source": [
    "distributions =  [st.laplace, st.norm, st.expon, st.dweibull, st.invweibull, st.lognorm, st.uniform]\n",
    "\n",
    "mles = []\n",
    "\n",
    "for distribution in distributions:\n",
    "    pars = distribution.fit(df.bidprice)\n",
    "    mle = distribution.nnlf(pars, df.bidprice)\n",
    "    mles.append(mle)\n",
    "\n",
    "results = [(distribution.name, mle) for distribution, mle in zip(distributions, mles)]\n",
    "\n",
    "for dist in sorted(zip(distributions, mles), key=lambda d: d[1]):\n",
    "    print(dist)\n",
    "best_fit = sorted(zip(distributions, mles), key=lambda d: d[1])[0]\n",
    "print('Best fit reached using {}, MLE value: {}'.format(best_fit[0].name, best_fit[1]))\n",
    "\n",
    "print([mod[0].name for mod in sorted(zip(distributions, mles), key=lambda d: d[1])])"
   ]
  },
  {
   "cell_type": "code",
   "execution_count": 20,
   "metadata": {},
   "outputs": [
    {
     "data": {
      "image/png": "[encoded data removed]",
      "text/plain": [
       "<matplotlib.figure.Figure at 0x116b479e8>"
      ]
     },
     "metadata": {},
     "output_type": "display_data"
    }
   ],
   "source": [
    "from scipy.stats import dweibull\n",
    "ax = sns.distplot(df[\"bidprice\"], fit= dweibull, kde=False, bins=50)\n",
    "ax\n",
    "plt.show()"
   ]
  },
  {
   "cell_type": "code",
   "execution_count": null,
   "metadata": {},
   "outputs": [],
   "source": [
    "timeplayed = np.flip(np.sort(df['bidprice']), axis=0)\n",
    "data_sorted = np.sort(timeplayed )\n",
    "\n",
    "ks_values = []\n",
    "for clip_count in range(1, 1000):\n",
    "    clipped_data = data_sorted[:-clip_count]\n",
    "    \n",
    "    params = st.lognorm.fit(clipped_data)\n",
    "    kst = st.kstest(clipped_data, 'dweibull', params)\n",
    "    \n",
    "    ks_values.append((clip_count, kst))\n",
    "        \n",
    "    if clip_count % 100 == 0:\n",
    "        print('Finished iteration %i, %s' %(clip_count, kst))"
   ]
  },
  {
   "cell_type": "code",
   "execution_count": null,
   "metadata": {
    "collapsed": true
   },
   "outputs": [],
   "source": []
  }
 ],
 "metadata": {
  "kernelspec": {
   "display_name": "Python 3",
   "language": "python",
   "name": "python3"
  },
  "language_info": {
   "codemirror_mode": {
    "name": "ipython",
    "version": 3
   },
   "file_extension": ".py",
   "mimetype": "text/x-python",
   "name": "python",
   "nbconvert_exporter": "python",
   "pygments_lexer": "ipython3",
   "version": "3.6.2"
  }
 },
 "nbformat": 4,
 "nbformat_minor": 2
}
